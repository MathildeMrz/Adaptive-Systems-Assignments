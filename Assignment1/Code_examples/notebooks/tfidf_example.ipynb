{
 "cells": [
  {
   "cell_type": "code",
   "execution_count": 54,
   "metadata": {
    "ExecuteTime": {
     "end_time": "2023-10-17T22:21:05.906219800Z",
     "start_time": "2023-10-17T22:21:05.579139200Z"
    }
   },
   "outputs": [],
   "source": [
    "import datetime"
   ]
  },
  {
   "cell_type": "code",
   "execution_count": 55,
   "metadata": {
    "ExecuteTime": {
     "end_time": "2023-10-17T22:21:05.919134100Z",
     "start_time": "2023-10-17T22:21:05.603141700Z"
    }
   },
   "outputs": [],
   "source": [
    "from gensim import corpora\n",
    "from gensim import models\n",
    "from pprint import pprint  # pretty-printer\n",
    "from gensim import similarities"
   ]
  },
  {
   "cell_type": "code",
   "execution_count": 56,
   "metadata": {
    "ExecuteTime": {
     "end_time": "2023-10-17T22:21:05.919134100Z",
     "start_time": "2023-10-17T22:21:05.616132600Z"
    }
   },
   "outputs": [],
   "source": [
    "import re"
   ]
  },
  {
   "cell_type": "code",
   "execution_count": 57,
   "metadata": {
    "ExecuteTime": {
     "end_time": "2023-10-17T22:21:05.919134100Z",
     "start_time": "2023-10-17T22:21:05.632133300Z"
    }
   },
   "outputs": [],
   "source": [
    "from nltk.corpus import stopwords\n",
    "from nltk import PorterStemmer"
   ]
  },
  {
   "cell_type": "code",
   "execution_count": 58,
   "metadata": {
    "ExecuteTime": {
     "end_time": "2023-10-17T22:21:05.921111Z",
     "start_time": "2023-10-17T22:21:05.648133400Z"
    }
   },
   "outputs": [],
   "source": [
    "init_t: datetime = datetime.datetime.now()  # init the time for the execution time calculation"
   ]
  },
  {
   "cell_type": "code",
   "execution_count": 59,
   "metadata": {
    "ExecuteTime": {
     "end_time": "2023-10-17T22:21:05.922160700Z",
     "start_time": "2023-10-17T22:21:05.668135400Z"
    }
   },
   "outputs": [],
   "source": [
    "documents = [\n",
    "    \"Human machine survey computer interface interface eps time for lab abc computer applications user\",\n",
    "    \"A survey of user opinion of computer system user response time computer user interface interface\",\n",
    "    \"The EPS user users interfaces interface human interface computer human management system user\",\n",
    "    \"System and human interface interface engineering testing of EPS computer user\",\n",
    "    \"Relation of users perceived response time to error measurement trees\",\n",
    "    \"The generation of random binary unordered paths minors user user computer\",\n",
    "    \"The intersection graph of paths in trees paths trees\",\n",
    "    \"Graph minors IV Widths of trees and well quasi ordering graph paths\",\n",
    "    \"Graph minors A tree paths binary trees graphs\",\n",
    "]"
   ]
  },
  {
   "cell_type": "code",
   "execution_count": 60,
   "metadata": {
    "ExecuteTime": {
     "end_time": "2023-10-17T22:21:05.922160700Z",
     "start_time": "2023-10-17T22:21:05.681138Z"
    }
   },
   "outputs": [],
   "source": [
    "porter = PorterStemmer()"
   ]
  },
  {
   "cell_type": "markdown",
   "metadata": {},
   "source": [
    "remove common words and tokenize"
   ]
  },
  {
   "cell_type": "code",
   "execution_count": 61,
   "metadata": {
    "ExecuteTime": {
     "end_time": "2023-10-17T22:21:05.923097500Z",
     "start_time": "2023-10-17T22:21:05.696132600Z"
    }
   },
   "outputs": [],
   "source": [
    "stoplist = stopwords.words('english')\n",
    "texts = [\n",
    "    [porter.stem(word) for word in document.lower().split() if word not in stoplist]\n",
    "    for document in documents\n",
    "]"
   ]
  },
  {
   "cell_type": "code",
   "execution_count": 62,
   "metadata": {
    "ExecuteTime": {
     "end_time": "2023-10-17T22:21:05.923097500Z",
     "start_time": "2023-10-17T22:21:05.724138600Z"
    }
   },
   "outputs": [
    {
     "name": "stdout",
     "output_type": "stream",
     "text": [
      "Tokens of each document:\n",
      "[['human',\n",
      "  'machin',\n",
      "  'survey',\n",
      "  'comput',\n",
      "  'interfac',\n",
      "  'interfac',\n",
      "  'ep',\n",
      "  'time',\n",
      "  'lab',\n",
      "  'abc',\n",
      "  'comput',\n",
      "  'applic',\n",
      "  'user'],\n",
      " ['survey',\n",
      "  'user',\n",
      "  'opinion',\n",
      "  'comput',\n",
      "  'system',\n",
      "  'user',\n",
      "  'respons',\n",
      "  'time',\n",
      "  'comput',\n",
      "  'user',\n",
      "  'interfac',\n",
      "  'interfac'],\n",
      " ['ep',\n",
      "  'user',\n",
      "  'user',\n",
      "  'interfac',\n",
      "  'interfac',\n",
      "  'human',\n",
      "  'interfac',\n",
      "  'comput',\n",
      "  'human',\n",
      "  'manag',\n",
      "  'system',\n",
      "  'user'],\n",
      " ['system',\n",
      "  'human',\n",
      "  'interfac',\n",
      "  'interfac',\n",
      "  'engin',\n",
      "  'test',\n",
      "  'ep',\n",
      "  'comput',\n",
      "  'user'],\n",
      " ['relat', 'user', 'perceiv', 'respons', 'time', 'error', 'measur', 'tree'],\n",
      " ['gener',\n",
      "  'random',\n",
      "  'binari',\n",
      "  'unord',\n",
      "  'path',\n",
      "  'minor',\n",
      "  'user',\n",
      "  'user',\n",
      "  'comput'],\n",
      " ['intersect', 'graph', 'path', 'tree', 'path', 'tree'],\n",
      " ['graph',\n",
      "  'minor',\n",
      "  'iv',\n",
      "  'width',\n",
      "  'tree',\n",
      "  'well',\n",
      "  'quasi',\n",
      "  'order',\n",
      "  'graph',\n",
      "  'path'],\n",
      " ['graph', 'minor', 'tree', 'path', 'binari', 'tree', 'graph']]\n"
     ]
    }
   ],
   "source": [
    "print(\"Tokens of each document:\")\n",
    "pprint(texts)"
   ]
  },
  {
   "cell_type": "markdown",
   "metadata": {},
   "source": [
    "create mapping keyword-id"
   ]
  },
  {
   "cell_type": "code",
   "execution_count": 63,
   "metadata": {
    "ExecuteTime": {
     "end_time": "2023-10-17T22:21:05.923097500Z",
     "start_time": "2023-10-17T22:21:05.743138100Z"
    }
   },
   "outputs": [],
   "source": [
    "dictionary = corpora.Dictionary(texts)"
   ]
  },
  {
   "cell_type": "code",
   "execution_count": 64,
   "metadata": {
    "ExecuteTime": {
     "end_time": "2023-10-17T22:21:05.924099Z",
     "start_time": "2023-10-17T22:21:05.758143Z"
    }
   },
   "outputs": [
    {
     "name": "stdout",
     "output_type": "stream",
     "text": [
      "\n",
      "Mapping keyword-id:\n",
      "{'abc': 0,\n",
      " 'applic': 1,\n",
      " 'binari': 22,\n",
      " 'comput': 2,\n",
      " 'engin': 15,\n",
      " 'ep': 3,\n",
      " 'error': 17,\n",
      " 'gener': 23,\n",
      " 'graph': 28,\n",
      " 'human': 4,\n",
      " 'interfac': 5,\n",
      " 'intersect': 29,\n",
      " 'iv': 30,\n",
      " 'lab': 6,\n",
      " 'machin': 7,\n",
      " 'manag': 14,\n",
      " 'measur': 18,\n",
      " 'minor': 24,\n",
      " 'opinion': 11,\n",
      " 'order': 31,\n",
      " 'path': 25,\n",
      " 'perceiv': 19,\n",
      " 'quasi': 32,\n",
      " 'random': 26,\n",
      " 'relat': 20,\n",
      " 'respons': 12,\n",
      " 'survey': 8,\n",
      " 'system': 13,\n",
      " 'test': 16,\n",
      " 'time': 9,\n",
      " 'tree': 21,\n",
      " 'unord': 27,\n",
      " 'user': 10,\n",
      " 'well': 33,\n",
      " 'width': 34}\n"
     ]
    }
   ],
   "source": [
    "print()\n",
    "print(\"Mapping keyword-id:\")\n",
    "pprint(dictionary.token2id)"
   ]
  },
  {
   "cell_type": "markdown",
   "metadata": {},
   "source": [
    "create the vector for each doc"
   ]
  },
  {
   "cell_type": "code",
   "execution_count": 65,
   "metadata": {
    "ExecuteTime": {
     "end_time": "2023-10-17T22:21:05.924099Z",
     "start_time": "2023-10-17T22:21:05.770134500Z"
    }
   },
   "outputs": [],
   "source": [
    "model_bow = [dictionary.doc2bow(text) for text in texts]"
   ]
  },
  {
   "cell_type": "markdown",
   "metadata": {},
   "source": [
    "create tfidf model"
   ]
  },
  {
   "cell_type": "code",
   "execution_count": 66,
   "metadata": {
    "ExecuteTime": {
     "end_time": "2023-10-17T22:21:05.930099900Z",
     "start_time": "2023-10-17T22:21:05.787133900Z"
    }
   },
   "outputs": [],
   "source": [
    "tfidf = models.TfidfModel(model_bow)\n",
    "tfidf_vectors = tfidf[model_bow]"
   ]
  },
  {
   "cell_type": "code",
   "execution_count": 67,
   "metadata": {
    "ExecuteTime": {
     "end_time": "2023-10-17T22:21:05.931097200Z",
     "start_time": "2023-10-17T22:21:05.823566700Z"
    }
   },
   "outputs": [],
   "source": [
    "id2token = dict(dictionary.items())"
   ]
  },
  {
   "cell_type": "code",
   "execution_count": 68,
   "metadata": {
    "ExecuteTime": {
     "end_time": "2023-10-17T22:21:05.932098100Z",
     "start_time": "2023-10-17T22:21:05.832567200Z"
    }
   },
   "outputs": [],
   "source": [
    "def convert(match):\n",
    "    return dictionary.id2token[int(match.group(0)[0:-1])]"
   ]
  },
  {
   "cell_type": "code",
   "execution_count": 69,
   "metadata": {
    "ExecuteTime": {
     "end_time": "2023-10-17T22:21:05.932098100Z",
     "start_time": "2023-10-17T22:21:05.849746700Z"
    }
   },
   "outputs": [
    {
     "name": "stdout",
     "output_type": "stream",
     "text": [
      "\n",
      "Vectors for documents (the positions with zeros are not shown):\n",
      "[(abc 0.40542866711280406), (applic 0.40542866711280406), (comput 0.21691507236538704), (ep 0.20271433355640203), (human 0.20271433355640203), (interfac 0.29926331616103624), (lab 0.40542866711280406), (machin 0.40542866711280406), (survey 0.2775301625966611), (time 0.20271433355640203), (user 0.07481582904025906)]\n",
      "[(comput 0.2829774401730927), (interfac 0.39040517665048174), (survey 0.36205310274675534), (time 0.2644518085841349), (user 0.2928038824878613), (opinion 0.5289036171682698), (respons 0.36205310274675534), (system 0.2644518085841349)]\n",
      "[(comput 0.1320516506982879), (ep 0.24681329955011175), (human 0.4936265991002235), (interfac 0.5465486717208087), (user 0.27327433586040434), (system 0.24681329955011175), (manag 0.4936265991002235)]\n",
      "[(comput 0.1450694414669421), (ep 0.2711444145000151), (human 0.2711444145000151), (interfac 0.4002853435089738), (user 0.10007133587724346), (system 0.2711444145000151), (engin 0.5422888290000302), (test 0.5422888290000302)]\n",
      "[(time 0.22613430622445238), (user 0.08345944412420615), (respons 0.30959375034865855), (error 0.45226861244890476), (measur 0.45226861244890476), (perceiv 0.45226861244890476), (relat 0.45226861244890476), (tree 0.1669188882484123)]\n",
      "[(comput 0.13272247100568965), (user 0.18310837679063738), (binari 0.33962129562295307), (gener 0.4961342144552687), (minor 0.24806710722763434), (path 0.18310837679063738), (random 0.4961342144552687), (unord 0.4961342144552687)]\n",
      "[(tree 0.4825681842496466), (path 0.4825681842496466), (graph 0.3268809860178467), (intersect 0.6537619720356934)]\n",
      "[(tree 0.14451218407056002), (minor 0.19577869723852112), (path 0.14451218407056002), (graph 0.39155739447704224), (iv 0.39155739447704224), (order 0.39155739447704224), (quasi 0.39155739447704224), (well 0.39155739447704224), (width 0.39155739447704224)]\n",
      "[(tree 0.47650213050933843), (binari 0.44189750836935393), (minor 0.32277197574201927), (path 0.23825106525466921), (graph 0.6455439514840385)]\n"
     ]
    }
   ],
   "source": [
    "print()\n",
    "print(\"Vectors for documents (the positions with zeros are not shown):\")\n",
    "for doc in tfidf_vectors:\n",
    "    print(re.sub(\"[0-9]+,\", convert, str(doc)))"
   ]
  },
  {
   "cell_type": "code",
   "execution_count": 70,
   "metadata": {
    "ExecuteTime": {
     "end_time": "2023-10-17T22:21:05.932098100Z",
     "start_time": "2023-10-17T22:21:05.870705500Z"
    }
   },
   "outputs": [],
   "source": [
    "matrix_tfidf = similarities.MatrixSimilarity(tfidf_vectors)  # this matrix will be necessary to calculate similarity between documents"
   ]
  },
  {
   "cell_type": "code",
   "execution_count": 71,
   "metadata": {
    "ExecuteTime": {
     "end_time": "2023-10-17T22:21:05.933097500Z",
     "start_time": "2023-10-17T22:21:05.897704Z"
    }
   },
   "outputs": [],
   "source": [
    "end_creation_model_t: datetime = datetime.datetime.now()  # just after the calculation of the matrix similarity -> time function"
   ]
  },
  {
   "cell_type": "code",
   "execution_count": 72,
   "metadata": {
    "ExecuteTime": {
     "end_time": "2023-10-17T22:21:05.961098400Z",
     "start_time": "2023-10-17T22:21:05.913097500Z"
    }
   },
   "outputs": [
    {
     "name": "stdout",
     "output_type": "stream",
     "text": [
      "\n",
      "Matrix similarities\n",
      "MatrixSimilarity<9 docs, 35 features>\n"
     ]
    }
   ],
   "source": [
    "print()\n",
    "print(\"Matrix similarities\")\n",
    "print(matrix_tfidf)"
   ]
  },
  {
   "cell_type": "markdown",
   "metadata": {},
   "source": [
    "obtain tfidf vector for the following doc"
   ]
  },
  {
   "cell_type": "code",
   "execution_count": 80,
   "metadata": {
    "ExecuteTime": {
     "end_time": "2023-10-18T15:15:12.755963100Z",
     "start_time": "2023-10-18T15:15:12.738272200Z"
    }
   },
   "outputs": [],
   "source": [
    "doc = \"trees graph human\"\n",
    "doc_s = [porter.stem(word) for word in doc.lower().split() if word not in stoplist]"
   ]
  },
  {
   "cell_type": "code",
   "execution_count": 81,
   "metadata": {
    "ExecuteTime": {
     "end_time": "2023-10-18T15:15:19.879008300Z",
     "start_time": "2023-10-18T15:15:19.771351700Z"
    }
   },
   "outputs": [],
   "source": [
    "vec_bow = dictionary.doc2bow(doc_s)\n",
    "vec_tfidf = tfidf[vec_bow]"
   ]
  },
  {
   "cell_type": "markdown",
   "metadata": {},
   "source": [
    "calculate similarities between doc and each doc of texts using tfidf vectors and cosine"
   ]
  },
  {
   "cell_type": "code",
   "execution_count": 75,
   "metadata": {
    "ExecuteTime": {
     "end_time": "2023-10-17T22:21:06.161051300Z",
     "start_time": "2023-10-17T22:21:05.962096Z"
    }
   },
   "outputs": [],
   "source": [
    "sims = matrix_tfidf[vec_tfidf]  # sims is a list a similarities"
   ]
  },
  {
   "cell_type": "markdown",
   "metadata": {},
   "source": [
    "sort similarities in descending order"
   ]
  },
  {
   "cell_type": "code",
   "execution_count": 76,
   "metadata": {
    "ExecuteTime": {
     "end_time": "2023-10-17T22:21:06.162019100Z",
     "start_time": "2023-10-17T22:21:05.978099100Z"
    }
   },
   "outputs": [],
   "source": [
    "sims = sorted(enumerate(sims), key=lambda item: -item[1])"
   ]
  },
  {
   "cell_type": "code",
   "execution_count": 77,
   "metadata": {
    "ExecuteTime": {
     "end_time": "2023-10-17T22:21:06.162019100Z",
     "start_time": "2023-10-17T22:21:05.995101700Z"
    }
   },
   "outputs": [
    {
     "name": "stdout",
     "output_type": "stream",
     "text": [
      "\n",
      "Given the doc: trees graph human\n",
      "whose tfidf vector is: [(4, 0.6268574434403934), (21, 0.46270886225222435), (28, 0.6268574434403934)]\n",
      "\n",
      "The Similarities between this doc and the documents of the corpus are:\n",
      "0.6251458 Graph minors A tree paths binary trees graphs\n",
      "0.42819637 The intersection graph of paths in trees paths trees\n",
      "0.31231773 Graph minors IV Widths of trees and well quasi ordering graph paths\n",
      "0.30943352 The EPS user users interfaces interface human interface computer human management system user\n",
      "0.1699689 System and human interface interface engineering testing of EPS computer user\n",
      "0.12707299 Human machine survey computer interface interface eps time for lab abc computer applications user\n",
      "0.07723485 Relation of users perceived response time to error measurement trees\n",
      "0.0 A survey of user opinion of computer system user response time computer user interface interface\n",
      "0.0 The generation of random binary unordered paths minors user user computer\n"
     ]
    }
   ],
   "source": [
    "print()\n",
    "print(\"Given the doc: \" + doc)\n",
    "print(\"whose tfidf vector is: \" + str(vec_tfidf))\n",
    "print()\n",
    "print(\"The Similarities between this doc and the documents of the corpus are:\")\n",
    "for doc_position, doc_score in sims:\n",
    "    print(doc_score, documents[doc_position])"
   ]
  },
  {
   "cell_type": "code",
   "execution_count": 78,
   "metadata": {
    "ExecuteTime": {
     "end_time": "2023-10-17T22:21:06.163021300Z",
     "start_time": "2023-10-17T22:21:06.008185900Z"
    }
   },
   "outputs": [],
   "source": [
    "end_t: datetime = datetime.datetime.now()  # to mark the end of the program"
   ]
  },
  {
   "cell_type": "markdown",
   "metadata": {},
   "source": [
    "get execution time"
   ]
  },
  {
   "cell_type": "code",
   "execution_count": 79,
   "metadata": {
    "ExecuteTime": {
     "end_time": "2023-10-17T22:21:06.163021300Z",
     "start_time": "2023-10-17T22:21:06.026164100Z"
    }
   },
   "outputs": [
    {
     "name": "stdout",
     "output_type": "stream",
     "text": [
      "\n",
      "Execution time model: 0:00:00.249571 seconds\n",
      "Execution time comparison: 0:00:00.109482 seconds\n"
     ]
    }
   ],
   "source": [
    "elapsed_time_model_creation: datetime = end_creation_model_t - init_t\n",
    "elapsed_time_comparison: datetime = end_t - end_creation_model_t\n",
    "print()\n",
    "print('Execution time model:', elapsed_time_model_creation, 'seconds')\n",
    "print('Execution time comparison:', elapsed_time_comparison, 'seconds')"
   ]
  }
 ],
 "metadata": {
  "kernelspec": {
   "display_name": "Python 3",
   "language": "python",
   "name": "python3"
  },
  "language_info": {
   "codemirror_mode": {
    "name": "ipython",
    "version": 3
   },
   "file_extension": ".py",
   "mimetype": "text/x-python",
   "name": "python",
   "nbconvert_exporter": "python",
   "pygments_lexer": "ipython3",
   "version": "3.6.4"
  }
 },
 "nbformat": 4,
 "nbformat_minor": 2
}
